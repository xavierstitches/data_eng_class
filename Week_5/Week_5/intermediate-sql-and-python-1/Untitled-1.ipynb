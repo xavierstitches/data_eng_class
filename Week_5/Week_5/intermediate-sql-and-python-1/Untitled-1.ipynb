{
 "cells": [
  {
   "cell_type": "code",
   "execution_count": 1,
   "metadata": {},
   "outputs": [],
   "source": [
    "import requests\n",
    "import pandas as pd\n"
   ]
  },
  {
   "cell_type": "code",
   "execution_count": 4,
   "metadata": {},
   "outputs": [],
   "source": [
    "url = 'https://api.openweathermap.org/data/2.5/weather?lat=6.52&lon=3.37&appid=e3ada8395a9147adf25d604e9613e9ef'"
   ]
  },
  {
   "cell_type": "code",
   "execution_count": 5,
   "metadata": {},
   "outputs": [
    {
     "data": {
      "text/plain": [
       "'{\"coord\":{\"lon\":3.37,\"lat\":6.52},\"weather\":[{\"id\":803,\"main\":\"Clouds\",\"description\":\"broken clouds\",\"icon\":\"04d\"}],\"base\":\"stations\",\"main\":{\"temp\":304.44,\"feels_like\":307.85,\"temp_min\":304.44,\"temp_max\":304.44,\"pressure\":1009,\"humidity\":57,\"sea_level\":1009,\"grnd_level\":1007},\"visibility\":10000,\"wind\":{\"speed\":3.49,\"deg\":189,\"gust\":2.92},\"clouds\":{\"all\":68},\"dt\":1708869832,\"sys\":{\"country\":\"NG\",\"sunrise\":1708840846,\"sunset\":1708883938},\"timezone\":3600,\"id\":2566677,\"name\":\"Shogunle\",\"cod\":200}'"
      ]
     },
     "execution_count": 5,
     "metadata": {},
     "output_type": "execute_result"
    }
   ],
   "source": [
    "response= requests.get(url)\n",
    "response.text"
   ]
  },
  {
   "cell_type": "code",
   "execution_count": 6,
   "metadata": {},
   "outputs": [
    {
     "data": {
      "text/plain": [
       "{'coord': {'lon': 3.37, 'lat': 6.52},\n",
       " 'weather': [{'id': 803,\n",
       "   'main': 'Clouds',\n",
       "   'description': 'broken clouds',\n",
       "   'icon': '04d'}],\n",
       " 'base': 'stations',\n",
       " 'main': {'temp': 304.44,\n",
       "  'feels_like': 307.85,\n",
       "  'temp_min': 304.44,\n",
       "  'temp_max': 304.44,\n",
       "  'pressure': 1009,\n",
       "  'humidity': 57,\n",
       "  'sea_level': 1009,\n",
       "  'grnd_level': 1007},\n",
       " 'visibility': 10000,\n",
       " 'wind': {'speed': 3.49, 'deg': 189, 'gust': 2.92},\n",
       " 'clouds': {'all': 68},\n",
       " 'dt': 1708869832,\n",
       " 'sys': {'country': 'NG', 'sunrise': 1708840846, 'sunset': 1708883938},\n",
       " 'timezone': 3600,\n",
       " 'id': 2566677,\n",
       " 'name': 'Shogunle',\n",
       " 'cod': 200}"
      ]
     },
     "execution_count": 6,
     "metadata": {},
     "output_type": "execute_result"
    }
   ],
   "source": [
    "weather_data = response.json()\n",
    "weather_data"
   ]
  },
  {
   "cell_type": "code",
   "execution_count": 7,
   "metadata": {},
   "outputs": [
    {
     "data": {
      "text/plain": [
       "'Shogunle'"
      ]
     },
     "execution_count": 7,
     "metadata": {},
     "output_type": "execute_result"
    }
   ],
   "source": [
    "city_name = weather_data['name']\n",
    "city_name"
   ]
  },
  {
   "cell_type": "code",
   "execution_count": 10,
   "metadata": {},
   "outputs": [
    {
     "data": {
      "text/plain": [
       "189"
      ]
     },
     "execution_count": 10,
     "metadata": {},
     "output_type": "execute_result"
    }
   ],
   "source": [
    "city_name = weather_data[\"wind\"] ['deg']\n",
    "city_name"
   ]
  },
  {
   "cell_type": "code",
   "execution_count": 11,
   "metadata": {},
   "outputs": [
    {
     "data": {
      "text/plain": [
       "{'all': 68}"
      ]
     },
     "execution_count": 11,
     "metadata": {},
     "output_type": "execute_result"
    }
   ],
   "source": [
    "city_name = weather_data[\"clouds\"]\n",
    "city_name"
   ]
  },
  {
   "cell_type": "code",
   "execution_count": 12,
   "metadata": {},
   "outputs": [
    {
     "data": {
      "text/plain": [
       "1708883938"
      ]
     },
     "execution_count": 12,
     "metadata": {},
     "output_type": "execute_result"
    }
   ],
   "source": [
    "city_name = weather_data[\"sys\"] ['sunset']\n",
    "city_name"
   ]
  },
  {
   "cell_type": "code",
   "execution_count": 13,
   "metadata": {},
   "outputs": [
    {
     "data": {
      "text/plain": [
       "'stations'"
      ]
     },
     "execution_count": 13,
     "metadata": {},
     "output_type": "execute_result"
    }
   ],
   "source": [
    "city_name = weather_data[\"base\"] \n",
    "city_name"
   ]
  },
  {
   "cell_type": "code",
   "execution_count": 18,
   "metadata": {},
   "outputs": [],
   "source": [
    "city_id = weather_data[\"id\"] \n",
    "city_name = weather_data[\"name\"]\n",
    "city_temp = weather_data[\"main\"] ['temp']\n",
    "city_hum = weather_data[\"main\"] ['humidity']\n",
    "city_dt = weather_data[\"dt\"] \n"
   ]
  },
  {
   "cell_type": "code",
   "execution_count": 19,
   "metadata": {},
   "outputs": [],
   "source": [
    "city_df = pd.DataFrame({'city_id': [city_id], 'city_name':[city_name],'temperature':[city_temp],'humidity':[city_hum],'date':[city_dt]})"
   ]
  },
  {
   "cell_type": "code",
   "execution_count": 20,
   "metadata": {},
   "outputs": [
    {
     "data": {
      "text/html": [
       "<div>\n",
       "<style scoped>\n",
       "    .dataframe tbody tr th:only-of-type {\n",
       "        vertical-align: middle;\n",
       "    }\n",
       "\n",
       "    .dataframe tbody tr th {\n",
       "        vertical-align: top;\n",
       "    }\n",
       "\n",
       "    .dataframe thead th {\n",
       "        text-align: right;\n",
       "    }\n",
       "</style>\n",
       "<table border=\"1\" class=\"dataframe\">\n",
       "  <thead>\n",
       "    <tr style=\"text-align: right;\">\n",
       "      <th></th>\n",
       "      <th>city_id</th>\n",
       "      <th>city_name</th>\n",
       "      <th>temperature</th>\n",
       "      <th>humidity</th>\n",
       "      <th>date</th>\n",
       "    </tr>\n",
       "  </thead>\n",
       "  <tbody>\n",
       "    <tr>\n",
       "      <th>0</th>\n",
       "      <td>2566677</td>\n",
       "      <td>Shogunle</td>\n",
       "      <td>304.44</td>\n",
       "      <td>57</td>\n",
       "      <td>1708869832</td>\n",
       "    </tr>\n",
       "  </tbody>\n",
       "</table>\n",
       "</div>"
      ],
      "text/plain": [
       "   city_id city_name  temperature  humidity        date\n",
       "0  2566677  Shogunle       304.44        57  1708869832"
      ]
     },
     "execution_count": 20,
     "metadata": {},
     "output_type": "execute_result"
    }
   ],
   "source": [
    "city_df"
   ]
  },
  {
   "cell_type": "code",
   "execution_count": null,
   "metadata": {},
   "outputs": [],
   "source": []
  }
 ],
 "metadata": {
  "kernelspec": {
   "display_name": "Python 3",
   "language": "python",
   "name": "python3"
  },
  "language_info": {
   "codemirror_mode": {
    "name": "ipython",
    "version": 3
   },
   "file_extension": ".py",
   "mimetype": "text/x-python",
   "name": "python",
   "nbconvert_exporter": "python",
   "pygments_lexer": "ipython3",
   "version": "3.12.1"
  }
 },
 "nbformat": 4,
 "nbformat_minor": 2
}
