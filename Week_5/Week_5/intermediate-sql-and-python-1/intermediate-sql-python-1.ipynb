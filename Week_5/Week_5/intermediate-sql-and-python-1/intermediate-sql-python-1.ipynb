{
 "cells": [
  {
   "cell_type": "markdown",
   "metadata": {},
   "source": [
    "<center><img src=\"../assets/img/10Alytics.png\" width=\"100\" height=\"60\"> </center>\n",
    "<h1 align = center> Week 5 : Python & SQL Intermediate INTRO</h1>\n",
    "<h4 align = center> Facilitator: Victor Iwuoha</h4>"
   ]
  },
  {
   "cell_type": "markdown",
   "metadata": {},
   "source": [
    "## Refresher on Lists, Tuples, Dictionaries and Maps"
   ]
  },
  {
   "cell_type": "markdown",
   "metadata": {},
   "source": [
    "### List"
   ]
  },
  {
   "cell_type": "code",
   "execution_count": 1,
   "metadata": {},
   "outputs": [
    {
     "name": "stdout",
     "output_type": "stream",
     "text": [
      "['python', 'sql', 'Airflow', 'Cloud Tech', 'Logical Reasoning']\n",
      "<class 'list'>\n",
      " The data type of 'data_stack' variable is =>  <class 'list'>\n",
      "state 1 before appending-> []\n",
      "state 2 after appending-> ['python', 'sql', 'Airflow', 'Cloud Tech', 'Logical Reasoning']\n",
      "state 3 after sorting-> ['Airflow', 'Cloud Tech', 'Logical Reasoning', 'python', 'sql']\n",
      "state 4 after popping-> ['Cloud Tech', 'Logical Reasoning', 'python', 'sql']\n",
      "state 5 after slicing ->  ['Cloud Tech', 'Logical Reasoning']\n"
     ]
    }
   ],
   "source": [
    "# Recall our lessons on list Week 3\n",
    "from data.store import data_stack\n",
    "print(data_stack)\n",
    "print(type(data_stack))\n",
    "print(\" The data type of 'data_stack' variable is => \", type (data_stack))\n",
    "\n",
    "# create an empty list named tables\n",
    "tables = []\n",
    "# iterate through the object named data_stack and append its objects  into another object named data_eng_stack\n",
    "data_eng_stack = []\n",
    "print(\"state 1 before appending->\",data_eng_stack)\n",
    "\n",
    "for tech in data_stack:\n",
    "    data_eng_stack.append(tech)\n",
    "print (\"state 2 after appending->\",data_eng_stack)\n",
    "\n",
    "# sort your data_eng_stack list \n",
    "\n",
    "data_eng_stack.sort()\n",
    "print (\"state 3 after sorting->\",data_eng_stack)\n",
    "\n",
    "\n",
    "#data_eng_stack.sort(reverse=true)\n",
    "#print (\"state 3 after sorting->\",data_eng_stack)\n",
    "\n",
    "# remove any tech subject in the array\n",
    "\n",
    "data_eng_stack.pop(0)\n",
    "print (\"state 4 after popping->\",data_eng_stack)\n",
    "\n",
    "#data_eng_stack.remove(\"Airflow\")\n",
    "#print (\"state 4 after removing Airflow ->\",data_eng_stack)\n",
    "\n",
    "# get a slice of the first two items using index slicing\n",
    "data_eng_stack = data_eng_stack[:2]\n",
    "print (\"state 5 after slicing -> \",data_eng_stack)\n",
    "\n"
   ]
  },
  {
   "cell_type": "markdown",
   "metadata": {},
   "source": [
    "### Tuple"
   ]
  },
  {
   "cell_type": "code",
   "execution_count": 4,
   "metadata": {},
   "outputs": [
    {
     "name": "stdout",
     "output_type": "stream",
     "text": [
      "(1, 2, 4)\n",
      "[(1, 2, 4), ['Cloud Tech', 'Logical Reasoning']]\n",
      "[{'my_tuple': (1, 2, 4)}, {'my_list': ['Cloud Tech', 'Logical Reasoning']}]\n",
      "({'my_list': ['Cloud Tech', 'Logical Reasoning']}, {'my_tuple': (1, 2, 4)}, 5, 10, 15)\n"
     ]
    }
   ],
   "source": [
    "# Recall that a tuple is an immutable iterable similar to a list.\n",
    "x = [1,2,4]\n",
    "\n",
    "y = tuple(x)\n",
    "\n",
    "print (y)\n",
    "\n",
    "# try to change the item at index 1 to 4\n",
    "#y[1] = 4\n",
    "\n",
    "multi_type_list = [y,data_eng_stack]\n",
    "print (multi_type_list)\n",
    "\n",
    "# add the tuple and the list into seperate dicts with keys as \n",
    "# my_tuple and my_list respectively,then store them in multi_type_list\n",
    "# multi-type_list=[\"key\":\"value\"}{\"key\":\"value\"}]\n",
    "my_tuple_dict = {\"my_tuple\": y}\n",
    "my_list_dict= {\"my_list\":data_eng_stack}\n",
    "multi_type_list=[my_tuple_dict,my_list_dict]\n",
    "print (multi_type_list)\n",
    "\n",
    "new_tuple = (my_list_dict,my_tuple_dict, 5,10,15)\n",
    "print (new_tuple)\n",
    "\n",
    "# what happens above?"
   ]
  },
  {
   "cell_type": "markdown",
   "metadata": {},
   "source": [
    "### Dictionaries\n",
    "\n",
    "A dictionary contains key-value elements and can be used to store various data types in it's values. As a data engineer, you would be required to understand how to traverse dict-like objects like json files etc. to extract or send data across functions and systems.\n"
   ]
  },
  {
   "cell_type": "code",
   "execution_count": 6,
   "metadata": {},
   "outputs": [
    {
     "name": "stdout",
     "output_type": "stream",
     "text": [
      "{1: 'val', 2: 'val2', 3: 'val3', 'abc': 'val4'}\n",
      "1\n",
      "2\n",
      "3\n",
      "abc\n",
      "{1: {'my_list': ['Cloud Tech', 'Logical Reasoning']}, 2: 'val2', 3: 'val3', 'abc': 'val4'}\n"
     ]
    }
   ],
   "source": [
    "# TODO\n",
    "from pprint import pprint\n",
    "\n",
    "# Create a dictionary inside a dictionary inside another dictionary\n",
    "\n",
    "my_dict = {1:\"val\",2:\"val2\",3:\"val3\",\"abc\":\"val4\"}\n",
    "\n",
    "pprint(my_dict)\n",
    "\n",
    "for key in my_dict.keys():\n",
    "    print(key)\n",
    "# to access a value in a dictionary, you need to know the KEY,\n",
    " # by saying dictionary [key], or dictionary .get(key),\n",
    "#you get the value associated with that key.\n",
    "# reassign the value of the key [1] to be a dictionary with key \"data_eng_stack\" \n",
    "# and value as that of the data_eng_stack, do same for the key[2]\n",
    "# eg;    \n",
    "my_dict[1]=my_list_dict\n",
    "\n",
    "print(my_dict)"
   ]
  },
  {
   "cell_type": "markdown",
   "metadata": {},
   "source": [
    "##MAP\n",
    "The Map function in python takes in a function and an iterable. it applies the fxn to each item in the iterable\n"
   ]
  },
  {
   "cell_type": "code",
   "execution_count": null,
   "metadata": {},
   "outputs": [],
   "source": [
    "# map these items to their categoris\n",
    "[chemistry,physics,mathematics,windows pc,phone,mouse,china,nigeria,ireland\n",
    " {\n",
    "     subject -> chemistry,physics,mathematics\n",
    "     country -> china,nigeria,ireland\n",
    "     gadget -> windows pc,phone,mouse\n",
    " }]"
   ]
  },
  {
   "cell_type": "code",
   "execution_count": 14,
   "metadata": {},
   "outputs": [
    {
     "name": "stdout",
     "output_type": "stream",
     "text": [
      "[80.0, 160.0, 320.0, 480.0, 800.0, 560.0]\n"
     ]
    }
   ],
   "source": [
    "\n",
    "prices = [100,200,400,600,1000,700] \n",
    "#new_prices = []\n",
    "#for price in prices:\n",
    " #   new_price = price + (price*0.1)\n",
    "   # new_prices.append(new_prices)\n",
    "\n",
    "#print(new_prices)\n",
    "\n",
    "# let us markup the prices by 10%\n",
    "# markup_prices = list(map(lambda x:x+(x*0.1),prices))\n",
    "\n",
    "# print(markup_prices)\n",
    "\n",
    " \n",
    "\n",
    "\n",
    "# write a regular function that applies a 20% discount to a price\n",
    "\n",
    "def apply_discount(price,perc=0.2):\n",
    "    new_val = price * (1- perc)\n",
    "\n",
    "    return new_val\n",
    "\n",
    "\n",
    "# use a map to apply the dicount on the prices, save the results to a new list named discounted_prices\n",
    "new_val = list(map(apply_discount,prices))\n",
    "print(new_val)"
   ]
  },
  {
   "cell_type": "markdown",
   "metadata": {},
   "source": []
  },
  {
   "cell_type": "markdown",
   "metadata": {},
   "source": [
    "## Python IO\n",
    "\n",
    "Python natively gives us the ability to perform Input& Output (I/O) operations on files and systems.\n"
   ]
  },
  {
   "cell_type": "markdown",
   "metadata": {},
   "source": [
    "### Opening/Reading Files"
   ]
  },
  {
   "cell_type": "code",
   "execution_count": 18,
   "metadata": {},
   "outputs": [
    {
     "name": "stdout",
     "output_type": "stream",
     "text": [
      "product\n",
      "  has a product_id of ==> id\n",
      "\"Dining Chair, Set of 4\"\n",
      "  has a product_id of ==> 08701149-3c5d-4134-be29-15fa1b1fb55d\n",
      "\"Smartphone, Android\"\n",
      "  has a product_id of ==> 6de89f99-e638-4b39-aa04-aa1f893c33ec\n",
      "\"Gaming Mouse, RGB\"\n",
      "  has a product_id of ==> 452127da-c281-4d73-8e89-15366d16e9af\n",
      "\"Outdoor Grill, Charcoal\"\n",
      "  has a product_id of ==> 5ed4f5f1-5015-4a90-a480-c5193d5ee113\n",
      "\"Microwave Oven, Stainless Steel\"\n",
      "  has a product_id of ==> a9f035cb-e3ae-4e6f-b2e7-31680dc98dd4\n",
      "\"Desk Chair, Leather\"\n",
      "  has a product_id of ==> 39422615-9f46-4959-a5ee-72dc6cc2f5b4\n",
      "\"Dining Table Set, Oak\"\n",
      "  has a product_id of ==> 3acbb5ef-0c9a-4702-939e-6b4a4e62916b\n",
      "\"Smart Speaker, Bluetooth\"\n",
      "  has a product_id of ==> 16f8aeef-3a58-4057-8aef-ec16f597fff0\n",
      "\"Air Purifier, HEPA Filter\"\n",
      "  has a product_id of ==> 548408f0-378b-4726-990e-d0aa1081b017\n",
      "\"Vacuum Cleaner, Cordless\"\n",
      "  has a product_id of ==> 42e6fc3a-c30b-4572-b31c-456c438793e0\n",
      "\"Fitness Tracker, Black\"\n",
      "  has a product_id of ==> 7717cc8c-078e-4355-bbc1-4541f3d6f19c\n",
      "\"Kitchen Blender, Silver\"\n",
      "  has a product_id of ==> b3b8022b-d166-415e-99c1-24f677c86116\n",
      "\"SAFCO Executive Leather Armchair, Black\"\n",
      "  has a product_id of ==> 351429eb-e22e-46a4-ba06-2ed92a271a82\n",
      "\"Air Conditioner, 10,000 BTU\"\n",
      "  has a product_id of ==> 22267782-7f83-4580-bb2f-c60c184616d9\n",
      "\"Couch, L-Shaped, Gray\"\n",
      "  has a product_id of ==> 1e8e38c9-f86e-4ff6-8af9-c73c9eaaad5b\n",
      "\"Digital Camera, Canon\"\n",
      "  has a product_id of ==> 2c2bcbdb-a5a1-476c-8aba-d9dd40e81b7b\n",
      "\"Wooden Coffee Table, Oak\"\n",
      "  has a product_id of ==> 07b67eb8-3fdc-4214-8683-d2a682f391f7\n",
      "\"Bookshelf, Cherry Wood\"\n",
      "  has a product_id of ==> 88684fff-5937-4232-9f10-3b21ef60fa44\n",
      "\"Luggage Set, 3-Piece\"\n",
      "  has a product_id of ==> 75a1c234-d7e6-4c36-8294-da9e740926a6\n",
      "\"Monitor, 27-inch\"\n",
      "  has a product_id of ==> 6eb73467-13ba-4f5b-b547-0826b3318323\n",
      "\"Wall Clock, Vintage Style\"\n",
      "  has a product_id of ==> 39b05ab4-63b7-4794-9130-c3206a2977ef\n",
      "\"LED TV, 55-inch\"\n",
      "  has a product_id of ==> 1fb25bd9-8799-4f66-a3b6-7f3dd66c9aa7\n",
      "\"Coffee Grinder, Electric\"\n",
      "  has a product_id of ==> bf78b782-bfc6-4bd5-9f36-1374f2da03b3\n",
      "\"Smartwatch, Fitness Tracker\"\n",
      "  has a product_id of ==> 5238c701-8338-4b29-877e-c630f1c13563\n",
      "\"Printer, Laserjet\"\n",
      "  has a product_id of ==> 44414355-e48b-41a3-a571-04da481a3ac8\n",
      "\"Bluetooth Headphones, Black\"\n",
      "  has a product_id of ==> 47b3ca7d-c0cb-4410-a1e3-f2d3226eef2d\n",
      "\"Shoe Rack, Wooden\"\n",
      "  has a product_id of ==> 41f97ecb-8217-4ace-9e8c-324a73d6fcfc\n",
      "\"Coffee Maker, Black\"\n",
      "  has a product_id of ==> 1c04a0b4-f9a9-45c5-8a5a-0f9a3c36257b\n",
      "\"Washing Machine, Front Load\"\n",
      "  has a product_id of ==> d1432747-e2d8-4687-99e4-76fa7ed5c193\n",
      "\"Wireless Keyboard, Black\"\n",
      "  has a product_id of ==> 78f50672-028f-4933-8987-3a9243196edd\n",
      "\"Tablet, Samsung Galaxy\"\n",
      "  has a product_id of ==> c2e555ae-3014-413c-9398-ce6ba1b4b6b5\n",
      "\"Pressure Cooker, Stainless Steel\"\n",
      "  has a product_id of ==> 989ff76b-5727-4c68-98e3-4bf7d1411857\n",
      "\"Office Desk, White\"\n",
      "  has a product_id of ==> 9758f5a0-117b-4896-993e-01fa662bb614\n",
      "\"Bicycle, Mountain Bike\"\n",
      "  has a product_id of ==> 440c79c7-ec44-414a-951e-967723e518a9\n",
      "\"Toaster Oven, Stainless Steel\"\n",
      "  has a product_id of ==> 40d8a78a-913a-4e0f-b2a0-3c79161fe593\n",
      "\"Bike Helmet, Adult\"\n",
      "  has a product_id of ==> b1a7c09b-e596-46d0-a683-c80406b8115d\n",
      "\"Desk Lamp, LED\"\n",
      "  has a product_id of ==> cb63b8b6-7493-44e5-bf28-5134a8c298f7\n",
      "\"Blender, Multifunctional\"\n",
      "  has a product_id of ==> f243ea19-5566-45a2-bf96-a4465457c99b\n",
      "\"Laptop, MacBook Pro\"\n",
      "  has a product_id of ==> 0a59dcaa-7ee9-416b-b403-26cabd70ce57\n",
      "\"Wireless Mouse, Black\"\n",
      "  has a product_id of ==> e716eb80-10ad-4d3a-8a80-99ce8fb18911\n",
      "\"Cookware Set, Stainless Steel\"\n",
      "  has a product_id of ==> 31d663e8-b759-494a-bb82-da86c1a9ee2f\n",
      "\"Refrigerator, Stainless Steel\"\n",
      "  has a product_id of ==> 264cc479-d162-48f0-a83c-64865aebb6e2\n",
      "\"Bathroom Scale, Digital\"\n",
      "  has a product_id of ==> 7d28ba00-d15d-495b-b400-ff2642ec6961\n",
      "\"Gaming Console, Xbox Series X\"\n",
      "  has a product_id of ==> cd0bf7e7-a1e8-4bf2-b2bd-0bb4c082b8cb\n",
      "\"Shower Curtain, Waterproof\"\n",
      "  has a product_id of ==> 25a17c0a-6fb5-4aa9-bf6f-8927e74d4753\n"
     ]
    }
   ],
   "source": [
    "# To Open a file located at data/products.csv\n",
    "\n",
    "# we would do so as follows;\n",
    "\n",
    "file_data = open(\"data/products.csv\",mode=\"r\")\n",
    "#raw_text = file_data.read()\n",
    "#print (raw_text)\n",
    "\n",
    "# we can now print the raw_text\n",
    "\n",
    "text_chunk = file_data.readlines()\n",
    "#print (text_chunk)\n",
    "for val in text_chunk:\n",
    "     data = val.split(\"~\")\n",
    "     print(f\"{data[1]}  has a product_id of ==> {data[0]}\")\n",
    "\n",
    "    # \"Dining chair, set of 4\" has a product_id of ->\n",
    "\n",
    "# for val in text_chunk[1:]\n",
    "#     data = val.split(\"~\")\n",
    "#     print(f\"{data[1]} has a product id of==> {data[0]}\")"
   ]
  },
  {
   "cell_type": "markdown",
   "metadata": {},
   "source": [
    "### With Context handler for I/O Ops.\n",
    "\n",
    "After opening a file as shown above, the problem remains that we need to manually clise the file to be available for any other process in-memory. See below;"
   ]
  },
  {
   "cell_type": "code",
   "execution_count": 20,
   "metadata": {},
   "outputs": [
    {
     "name": "stdout",
     "output_type": "stream",
     "text": [
      "True\n"
     ]
    }
   ],
   "source": [
    "# file isn't closed.\n",
    "#print(file_data.closed)\n",
    "# to close it we can do it as follows;\n",
    "file_data.close()\n",
    "\n",
    "print(file_data.closed)\n",
    "\n",
    "\n"
   ]
  },
  {
   "cell_type": "code",
   "execution_count": 22,
   "metadata": {},
   "outputs": [
    {
     "name": "stdout",
     "output_type": "stream",
     "text": [
      "True\n",
      "id~product\n",
      "08701149-3c5d-4134-be29-15fa1b1fb55d~\"Dining Chair, Set of 4\"\n",
      "6de89f99-e638-4b39-aa04-aa1f893c33ec~\"Smartphone, Android\"\n",
      "452127da-c281-4d73-8e89-15366d16e9af~\"Gaming Mouse, RGB\"\n",
      "5ed4f5f1-5015-4a90-a480-c5193d5ee113~\"Outdoor Grill, Charcoal\"\n",
      "a9f035cb-e3ae-4e6f-b2e7-31680dc98dd4~\"Microwave Oven, Stainless Steel\"\n",
      "39422615-9f46-4959-a5ee-72dc6cc2f5b4~\"Desk Chair, Leather\"\n",
      "3acbb5ef-0c9a-4702-939e-6b4a4e62916b~\"Dining Table Set, Oak\"\n",
      "16f8aeef-3a58-4057-8aef-ec16f597fff0~\"Smart Speaker, Bluetooth\"\n",
      "548408f0-378b-4726-990e-d0aa1081b017~\"Air Purifier, HEPA Filter\"\n",
      "42e6fc3a-c30b-4572-b31c-456c438793e0~\"Vacuum Cleaner, Cordless\"\n",
      "7717cc8c-078e-4355-bbc1-4541f3d6f19c~\"Fitness Tracker, Black\"\n",
      "b3b8022b-d166-415e-99c1-24f677c86116~\"Kitchen Blender, Silver\"\n",
      "351429eb-e22e-46a4-ba06-2ed92a271a82~\"SAFCO Executive Leather Armchair, Black\"\n",
      "22267782-7f83-4580-bb2f-c60c184616d9~\"Air Conditioner, 10,000 BTU\"\n",
      "1e8e38c9-f86e-4ff6-8af9-c73c9eaaad5b~\"Couch, L-Shaped, Gray\"\n",
      "2c2bcbdb-a5a1-476c-8aba-d9dd40e81b7b~\"Digital Camera, Canon\"\n",
      "07b67eb8-3fdc-4214-8683-d2a682f391f7~\"Wooden Coffee Table, Oak\"\n",
      "88684fff-5937-4232-9f10-3b21ef60fa44~\"Bookshelf, Cherry Wood\"\n",
      "75a1c234-d7e6-4c36-8294-da9e740926a6~\"Luggage Set, 3-Piece\"\n",
      "6eb73467-13ba-4f5b-b547-0826b3318323~\"Monitor, 27-inch\"\n",
      "39b05ab4-63b7-4794-9130-c3206a2977ef~\"Wall Clock, Vintage Style\"\n",
      "1fb25bd9-8799-4f66-a3b6-7f3dd66c9aa7~\"LED TV, 55-inch\"\n",
      "bf78b782-bfc6-4bd5-9f36-1374f2da03b3~\"Coffee Grinder, Electric\"\n",
      "5238c701-8338-4b29-877e-c630f1c13563~\"Smartwatch, Fitness Tracker\"\n",
      "44414355-e48b-41a3-a571-04da481a3ac8~\"Printer, Laserjet\"\n",
      "47b3ca7d-c0cb-4410-a1e3-f2d3226eef2d~\"Bluetooth Headphones, Black\"\n",
      "41f97ecb-8217-4ace-9e8c-324a73d6fcfc~\"Shoe Rack, Wooden\"\n",
      "1c04a0b4-f9a9-45c5-8a5a-0f9a3c36257b~\"Coffee Maker, Black\"\n",
      "d1432747-e2d8-4687-99e4-76fa7ed5c193~\"Washing Machine, Front Load\"\n",
      "78f50672-028f-4933-8987-3a9243196edd~\"Wireless Keyboard, Black\"\n",
      "c2e555ae-3014-413c-9398-ce6ba1b4b6b5~\"Tablet, Samsung Galaxy\"\n",
      "989ff76b-5727-4c68-98e3-4bf7d1411857~\"Pressure Cooker, Stainless Steel\"\n",
      "9758f5a0-117b-4896-993e-01fa662bb614~\"Office Desk, White\"\n",
      "440c79c7-ec44-414a-951e-967723e518a9~\"Bicycle, Mountain Bike\"\n",
      "40d8a78a-913a-4e0f-b2a0-3c79161fe593~\"Toaster Oven, Stainless Steel\"\n",
      "b1a7c09b-e596-46d0-a683-c80406b8115d~\"Bike Helmet, Adult\"\n",
      "cb63b8b6-7493-44e5-bf28-5134a8c298f7~\"Desk Lamp, LED\"\n",
      "f243ea19-5566-45a2-bf96-a4465457c99b~\"Blender, Multifunctional\"\n",
      "0a59dcaa-7ee9-416b-b403-26cabd70ce57~\"Laptop, MacBook Pro\"\n",
      "e716eb80-10ad-4d3a-8a80-99ce8fb18911~\"Wireless Mouse, Black\"\n",
      "31d663e8-b759-494a-bb82-da86c1a9ee2f~\"Cookware Set, Stainless Steel\"\n",
      "264cc479-d162-48f0-a83c-64865aebb6e2~\"Refrigerator, Stainless Steel\"\n",
      "7d28ba00-d15d-495b-b400-ff2642ec6961~\"Bathroom Scale, Digital\"\n",
      "cd0bf7e7-a1e8-4bf2-b2bd-0bb4c082b8cb~\"Gaming Console, Xbox Series X\"\n",
      "25a17c0a-6fb5-4aa9-bf6f-8927e74d4753~\"Shower Curtain, Waterproof\"\n",
      "\n"
     ]
    }
   ],
   "source": [
    "#  a common practic you would see in python is using the \"with\" context manager to work on files;\n",
    "\n",
    "with open(\"data/products.csv\") as file:\n",
    "    file_data = file.read()\n",
    "\n",
    "\n",
    "print(file.closed)\n",
    "print(file_data)"
   ]
  },
  {
   "cell_type": "markdown",
   "metadata": {},
   "source": [
    "### Writing to Files\n",
    "\n",
    "in the similar manner we can write to files using the following most common modes (\"w\",\"wb\"), we can also append to files using the \"a\" mode. \n",
    "\n",
    "**Caution**: _using the \"w\" denoted (write modes) by default would overwrite the file_\n",
    "\n"
   ]
  },
  {
   "cell_type": "code",
   "execution_count": null,
   "metadata": {},
   "outputs": [],
   "source": [
    "with open(\"data/dummy_file.txt\",\"w\") as file:\n",
    "    file.write(\"This is the Intermediate Python and SQL session\")\n",
    "    "
   ]
  },
  {
   "cell_type": "markdown",
   "metadata": {},
   "source": [
    "## EXCEPTION HANDLING"
   ]
  },
  {
   "cell_type": "markdown",
   "metadata": {},
   "source": [
    "As a Data Engineer, while  using Python, it is good to anticipate exceptions and prepare to handle them. It is vague to write code and assume errors would never occur. The simple reason is that _`\"Every peice of code works until it doesn't\"`_. This may be due to change in Data or other conditions. The way in which you handle this would depend on the application you are building or the problem you are solving.\n",
    "\n",
    "\n",
    "This can be manoeuvred using simple if/else logic or by using a `try/except block`. We would touch on the latter."
   ]
  },
  {
   "cell_type": "code",
   "execution_count": null,
   "metadata": {},
   "outputs": [],
   "source": [
    "# Assume we try opening a nonexistent file\n",
    "\n",
    "with open(\"data/nonexistent.txt\") as file:\n",
    "    data = file.read()\n",
    "\n",
    "print(data)\n",
    "\n",
    "# we get an exception that could crash our program\n",
    "\n",
    "\n"
   ]
  },
  {
   "cell_type": "code",
   "execution_count": null,
   "metadata": {},
   "outputs": [],
   "source": [
    "# by reviewing this as follows;\n",
    "\n",
    "try:\n",
    "    with open(\"data/nonexistent.txt\") as file:\n",
    "        data_vals = file.read()\n",
    "except Exception as e:\n",
    "    print(\"Kindly confirm the file name or chek that it exists in your directory.\")\n",
    "    print(f\"Unable to access file due to the error -> {e}\")\n",
    "# print(data_vals)\n",
    "    \n",
    "# Although the error was caught, it didnt crash our program. This is called \"gracefully exiting your errors.\"\n",
    "\n",
    "# You can also specify how you want to handle each type of error you want to\n"
   ]
  },
  {
   "cell_type": "markdown",
   "metadata": {},
   "source": [
    "## ACCESSING DATABSES WITH PYTHON"
   ]
  },
  {
   "cell_type": "markdown",
   "metadata": {},
   "source": [
    "To access a database from your python code, there are a couiple of handly libraries which can be used as follows;\n",
    "\n",
    "psycopg2\n",
    "sqlalchemy"
   ]
  },
  {
   "cell_type": "markdown",
   "metadata": {},
   "source": [
    "In your terminal, from within this project directory run the command\n",
    "\n",
    "`python3 -m pip install -r requirements.txt`\n",
    "\n",
    "or\n",
    "\n",
    "`py -3 -m pip install -r requirements.txt`\n",
    "\n",
    "or simply put\n",
    "\n",
    "`pip install -r requirements.txt`"
   ]
  },
  {
   "cell_type": "code",
   "execution_count": null,
   "metadata": {},
   "outputs": [],
   "source": [
    "# To establish a connection, we can write function to do that for us \n",
    "import psycopg2\n",
    "\n",
    "def connect_to_db():\n",
    "    try:\n",
    "        conn = psycopg2.connect(\n",
    "            database=\"xxxxx\",\n",
    "            user=\"xxxxx\",\n",
    "            password=\"xxxxxxx\",\n",
    "            host= \"xxxxxx\",# \"127.0.0.1\" for localhost,\n",
    "            port=\"5432\"\n",
    "        )\n",
    "\n",
    "    except Exception as e:\n",
    "        print(f\"Error connecting to db-> {e}\")\n",
    "        raise e\n",
    "    print(\"successfully connected to db\")\n",
    "\n",
    "    connection = connect_to_db()"
   ]
  },
  {
   "cell_type": "code",
   "execution_count": null,
   "metadata": {},
   "outputs": [],
   "source": [
    "# To create a table, read, update or delete data from a database, we need to connect to the database, create a cursor and call cursor.execute()\n",
    "# Head over to the db_client.py file.\n",
    "# Note: In production use-cases, you would be required to use natibe python files as against jupyter notebooks.\n"
   ]
  },
  {
   "cell_type": "code",
   "execution_count": null,
   "metadata": {},
   "outputs": [],
   "source": []
  },
  {
   "cell_type": "markdown",
   "metadata": {},
   "source": [
    "## Intermediate SQL"
   ]
  },
  {
   "cell_type": "markdown",
   "metadata": {},
   "source": [
    "- **Window Functions**: In SQL, window functions help us perform complex computations over data in a table/ query result.\n",
    "some key windoW functions which we would look at include ROW_NUMBER, RANK, DENSE_RANK. window functions are usually computations OVER() A specified criteria with a mandatory ORDER BY clasue within.\n",
    "\n",
    "Here is a snippet;\n",
    "\n",
    "        SELECT \n",
    "                customer_name, \n",
    "                total_sales,\n",
    "                ROW_NUMBER() OVER (ORDER BY total_sales DESC) AS customer_position\n",
    "                "
   ]
  },
  {
   "cell_type": "markdown",
   "metadata": {},
   "source": [
    "- **Case Statements**: Case statements are similar to your if else statements in other programming languages, however, they are used for conditional logic in SQL and mostly used to create derived columns based on data in a table/ query result,. The syntax for this is ;\n",
    "\n",
    "        CASE\n",
    "            WHEN X(condition) THEN Y(desired computation/output)\n",
    "            WHEN A THEN B\n",
    "            ELSE (another desired output)\n",
    "        END AS col_name"
   ]
  },
  {
   "cell_type": "markdown",
   "metadata": {},
   "source": [
    "_Head over to our earlier created `products` and `sales` tables for some hands-on excercise._\n",
    "Optionally get the data file from  the folder `revision/sql-base`\n"
   ]
  },
  {
   "cell_type": "markdown",
   "metadata": {},
   "source": []
  }
 ],
 "metadata": {
  "kernelspec": {
   "display_name": ".venv",
   "language": "python",
   "name": "python3"
  },
  "language_info": {
   "codemirror_mode": {
    "name": "ipython",
    "version": 3
   },
   "file_extension": ".py",
   "mimetype": "text/x-python",
   "name": "python",
   "nbconvert_exporter": "python",
   "pygments_lexer": "ipython3",
   "version": "3.12.1"
  }
 },
 "nbformat": 4,
 "nbformat_minor": 2
}
