{
 "cells": [
  {
   "cell_type": "code",
   "execution_count": 24,
   "metadata": {},
   "outputs": [
    {
     "name": "stdout",
     "output_type": "stream",
     "text": [
      "[1, 2, 3, 4, 5, 6, 'unknown', 'known']\n",
      "1\n",
      "11\n",
      "2\n",
      "12\n",
      "3\n",
      "13\n",
      "4\n",
      "14\n",
      "5\n",
      "15\n",
      "6\n",
      "16\n",
      "unknown\n",
      "known\n"
     ]
    }
   ],
   "source": [
    "## Variables & Lists\n",
    "\n",
    "# create a list that has numbers ranging from 1 to 10,\n",
    "# assign this list to a variable named => numbers. \n",
    "# drop the last 4 elements of the list\n",
    "# append 2 new items to this list (\"unknown\", \"known\")\n",
    "\n",
    "# assign the earlier list to a new variable named my_new_list.\n",
    "\n",
    "numbers = [1,2,3,4,5,6,7,8,9,10]\n",
    "list_length = len(numbers)\n",
    "\n",
    "\n",
    "# numbers = numbers[:6] #m2\n",
    "# numbers = numbers[:-4] #m3\n",
    "numbers = numbers[:(list_length-4)]\n",
    "# print(numbers)\n",
    "new_elements = [\"unknown\", \"known\"]\n",
    "numbers.extend(new_elements)\n",
    "\n",
    "my_new_list = numbers\n",
    "print(my_new_list)\n",
    "\n",
    "\n",
    "#  loop through files in a folder and send them one by one to a db (if & only if they \n",
    "# have more than 10 rows)\n",
    "\n",
    "# iterate over the my_new_list list and print out each element\n",
    "# hint (for loop)\n",
    "\n",
    "# 1\n",
    "# 2\n",
    "# 3\n",
    "# 4\n",
    "# 5\n",
    "# ...\n",
    "# known\n",
    "# )\n",
    "\n",
    "# if the element is an integer, add 10 to it and print it out\n",
    "\n",
    "# what do i want to iterate over\n",
    "\n",
    "# for something in an_iterable:\n",
    "#     do something\n",
    "\n",
    "for element in my_new_list:\n",
    "    print(element)\n",
    "    if type(element) == int:\n",
    "        # if true run the remaining two lines\n",
    "        new_value = element + 10\n",
    "        print(new_value)\n",
    "\n"
   ]
  },
  {
   "cell_type": "code",
   "execution_count": 34,
   "metadata": {},
   "outputs": [
    {
     "data": {
      "text/plain": [
       "False"
      ]
     },
     "execution_count": 34,
     "metadata": {},
     "output_type": "execute_result"
    }
   ],
   "source": [
    "x = 200\n",
    "\n",
    "isinstance(x, str)"
   ]
  },
  {
   "cell_type": "code",
   "execution_count": null,
   "metadata": {},
   "outputs": [],
   "source": [
    "## Loops & Functions\n",
    "\n",
    "# create a function that does everything we did above\n",
    "# function should take my_new_list as an input and then do the things we did in our for loop.\n",
    "#  optionally, the function should return the new version of the list with \n",
    "# 10 added to each element.\n",
    "\n",
    "\n",
    "def list_transformer(list_of_elems):\n",
    "\n",
    "    for element in list_of_elems:\n",
    "        print(element)\n",
    "        if type(element) == int:\n",
    "            # if true run the remaining two lines\n",
    "            new_value = element + 10\n",
    "            print(new_value)\n",
    "\n",
    "\n",
    "sample = [\"A\",\"B\",\"E\",1,2,3,900]\n",
    "\n"
   ]
  },
  {
   "cell_type": "code",
   "execution_count": null,
   "metadata": {},
   "outputs": [],
   "source": []
  },
  {
   "cell_type": "code",
   "execution_count": null,
   "metadata": {},
   "outputs": [],
   "source": []
  },
  {
   "cell_type": "code",
   "execution_count": null,
   "metadata": {},
   "outputs": [],
   "source": []
  },
  {
   "cell_type": "code",
   "execution_count": null,
   "metadata": {},
   "outputs": [],
   "source": []
  },
  {
   "cell_type": "code",
   "execution_count": 32,
   "metadata": {},
   "outputs": [
    {
     "data": {
      "text/plain": [
       "True"
      ]
     },
     "execution_count": 32,
     "metadata": {},
     "output_type": "execute_result"
    }
   ],
   "source": [
    "# write data to a file using python without \"with open\"\n",
    "file = open(\"data.txt\", \"w\")\n",
    "data = \"This was written to this file using python\"\n",
    "file.write(data)\n",
    "file.close()\n",
    "file.closed\n",
    "\n",
    "\n"
   ]
  },
  {
   "cell_type": "code",
   "execution_count": null,
   "metadata": {},
   "outputs": [],
   "source": []
  },
  {
   "cell_type": "code",
   "execution_count": null,
   "metadata": {},
   "outputs": [],
   "source": []
  }
 ],
 "metadata": {
  "kernelspec": {
   "display_name": ".venv",
   "language": "python",
   "name": "python3"
  },
  "language_info": {
   "codemirror_mode": {
    "name": "ipython",
    "version": 3
   },
   "file_extension": ".py",
   "mimetype": "text/x-python",
   "name": "python",
   "nbconvert_exporter": "python",
   "pygments_lexer": "ipython3",
   "version": "3.12.0"
  }
 },
 "nbformat": 4,
 "nbformat_minor": 2
}
