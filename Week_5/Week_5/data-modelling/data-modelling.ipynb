{
 "cells": [
  {
   "cell_type": "markdown",
   "metadata": {},
   "source": [
    "\n",
    "<center><img src=\"../assets/img/10Alytics.png\" width=\"100\" height=\"60\"> </center>\n",
    "<h1 align = center> Week 5 : Data Modelling & Normalization </h1>\n",
    "<h4 align = center> Facilitator: Victor Iwuoha</h4>"
   ]
  },
  {
   "cell_type": "code",
   "execution_count": 2,
   "metadata": {},
   "outputs": [
    {
     "name": "stdout",
     "output_type": "stream",
     "text": [
      "8\n"
     ]
    }
   ],
   "source": [
    "a = 5\n",
    "b = 3\n",
    "c = (a + b)\n",
    "print (c)"
   ]
  },
  {
   "cell_type": "markdown",
   "metadata": {},
   "source": [
    "## 1.0 Data Modelling\n",
    "\n",
    "In the course of this study, we are going to build a data model for a Retail Organisation. This case study would teach us the concepts of Data Modelling, and Normalization of Data. We would also build out an ERD for the business to help other data team members understand how entities are related within the business."
   ]
  },
  {
   "cell_type": "markdown",
   "metadata": {},
   "source": [
    "### 1.1 What Is Data Modelling ?\n",
    "\n",
    "Data modelling is the process of building or creating a physical/ logical representation of business entities as well as their relationships. In simpler terms, it refers to how data in a database system is organized (in tables) and related. This can apply to both a data warehouse and an application database. Data models denormalise data into facts and dimensions.\n",
    "\n",
    "While there are different types of data models and modelling techniques, It is good to note that the **business process** involved would determine how the data model would look. It defines what tables would exist and their relationships. As a data engineer, this would be a key part of your data warehouse setup. \n",
    "\n"
   ]
  },
  {
   "cell_type": "markdown",
   "metadata": {},
   "source": [
    "### **_CASE STUDY_**\n",
    "\n",
    "<center><img src=\"../assets/img/retail-image.jpeg\" width=\"800\" height=\"600\"> </center>\n",
    "\n",
    "\n",
    "_ELVIC INC is a company that sells electronics/Technology appliances and furniture to customers and ships them to the customer's addresses._\n",
    "\n"
   ]
  },
  {
   "cell_type": "markdown",
   "metadata": {},
   "source": [
    "### 1.2 Key Concepts in Data Models\n",
    "\n",
    "In the above business description, You can quickly point out the answer to **\"_what does ELVIC INC do_\"**. -> They \"sell\" various items. They make **`Sales/Orders`**. We can also answer things like **_\"Who do they sell to\"_**  -> **`Customers`**, which means they have -> **`Products/    Inventory`** which they -> **`Ship`** to the Customer's -> **`Location/Address`**. \n",
    "\n",
    "To build a data model for this business, we need to define the necessary tables. Can you think of any ?...\n",
    "\n",
    "- **Facts**: Facts are typically tables that contain quantitative measures or metrics which pertain to a business process. Eg; Sales, Events, Transactions, Ledgers, Bookings. This kind of table has information on it's rows showing eg; what quantity of a product was purchased at what price and at what time ? etc. What amount was withdrawn from this wallet/ account on a given date?. \n",
    "\n",
    "    ➡️ **check 1:** _In the case above, this means ELVIC INC can have an **`Orders`** table_. This can also be called eg; Sales, Transactions etc.\n",
    "\n",
    "\n",
    "- **Dimensions**: Dimensions are usually used to describe or explain the data in the fact tables, these are things like Who placed the order, where was the order placed?, What locations does the business operate in?. These tables would normally have relationships using foreign keys to the fact tables (mostly in a one to many pattern). For instance, Joe can have more than one order. \n",
    "\n",
    "    ➡️ **check 2:** _In the case above, Outline the possible dimension tables ELVIC INC can have..._\n",
    "\n",
    "_Note that up till now, we have not seen the actual data, but we have already crafted a logical model for this business as well as defined the various (**`Entities/Tables`**). We would look at the data in section 3._ But for the next section, we would dive into **`ERD's`**."
   ]
  },
  {
   "cell_type": "markdown",
   "metadata": {},
   "source": []
  },
  {
   "cell_type": "markdown",
   "metadata": {},
   "source": [
    "## 2.0 **Entity Relationship Diagram (ERD)**\n",
    "\n",
    "In Section 1, we looked at the various entities that the business would have, however the entities IN Database systems usually have relationships. An ERD typically shows us how the tables within a database system/ data models (eg; facts/dimensions) are related. It is a diagramatic representation of the schemas (structure) of these entities and their relationships which can also include the specification of the Data Types.\n",
    "\n",
    "See an example below."
   ]
  },
  {
   "cell_type": "markdown",
   "metadata": {},
   "source": [
    "<center><img src=\"../assets/img/erd-drawing.svg\" width=\"800\" height=\"600\"> </center>\n",
    "\n",
    "**Note:** _Observe the relationship from Teachers -> Students. This would be discussed in the next section._"
   ]
  },
  {
   "cell_type": "markdown",
   "metadata": {},
   "source": [
    "### 2.1 **Relationships**\n",
    "\n",
    "The connecting lines and symbols in the diagram above simply denote the cardinality (direction of relationships between entities).\n",
    "These can be `One to many`/ `many to One`, `One to One`, etc. or even no relationship."
   ]
  },
  {
   "cell_type": "markdown",
   "metadata": {},
   "source": [
    "### 2.3 Build AN ERD (Hands-On)\n",
    "Log onto [drawsql.app](https://drawsql.app) and sign up for this exercise as we build out our ERD for the business. This would involve create table statements. This would contain a non-exhaustive list of columns as we identified in **1.2**. Postgres PgAdmin can also be used to do this. Another Alternative is [draw.io](https://draw.io) . "
   ]
  },
  {
   "cell_type": "markdown",
   "metadata": {},
   "source": [
    "** FACT**\n",
    "-ORDERS\n",
    "  - order_id\n",
    "  - order_date\n",
    "  - delivery_date\n",
    "  - product_id\n",
    "  - customer_id\n",
    "  - quantity\n",
    "  - price\n",
    "\n",
    "\n",
    "-PAYMENTS\n",
    " - payment_id\n",
    " - order_id\n",
    " - payment_date\n",
    " - payment_method_id\n",
    "\n",
    "\n",
    "  **DIMENSIONS**\n",
    "\n",
    "  - CUSTOMERS\n",
    "  - customer_id\n",
    "  - customer_name\n",
    "  - phone_number\n",
    "  - email\n",
    "  - address\n",
    "\n",
    "- LOCACTIONS\n",
    "  - location_id\n",
    "  - zip_code\n",
    "  - city\n",
    "  - state\n",
    "  - region\n",
    "  \n",
    "- PRODUCTS\n",
    "   - product_id \n",
    "   - product_name\n",
    "   - product_description\n",
    "   - brand\n",
    "   - category\n",
    "   - type\n",
    "   - model\n",
    "\n",
    "- PAYMENT-METHOD\n",
    " - payment_method_id\n",
    " -description\n",
    " \n"
   ]
  },
  {
   "cell_type": "markdown",
   "metadata": {},
   "source": [
    "### 2.2 Types of Data Warehouse Schema Designs\n",
    "\n",
    "- **Star Schema**: In a star schema design, the dimension tables have direct relationships to the fact tables. A single fact table is surrounded by multipe dimension tables and they can be joined together. (An example of this is what we just created in **2.3**)\n",
    "\n",
    "- **Snowflake Schema**: In this schema design, at least one dimensional table does not directly relate to the fact table. It can only be joined through the help of an intermediate dimension table."
   ]
  },
  {
   "cell_type": "markdown",
   "metadata": {},
   "source": [
    "## 3.0 Normalization & Denormalization"
   ]
  },
  {
   "cell_type": "markdown",
   "metadata": {},
   "source": [
    "\n",
    "We have just been given some data from ELVIC INC . located in 📁 `data/global-superstore-data.xlsx` on the Orders Sheet. Take a look it at and observe it's current state.\n",
    "\n",
    "On each row, we have information about an order, the customer who bought the item, the address where it was shipped to, we also have detailed information on the category and subcategory the product belongs to. The current state of this data is the denormalised state. with both descriptive and quantitative aspects of the data on the same table.\n",
    "\n",
    "\n"
   ]
  },
  {
   "cell_type": "markdown",
   "metadata": {},
   "source": [
    "### **Normalization**\n",
    "\n",
    "In Data Engineering, Database normalization is the process of restructuring a relational database in accordance with a series of normal forms in order to reduce data redundancy and improve data integrity. If we decided to break down the data in this spreadsheet into a format that suits our data model in **2.3**, that is simply called Normalization. Normalization is done to reduce redundancy (having repetitive data on tables/databases)."
   ]
  },
  {
   "cell_type": "markdown",
   "metadata": {},
   "source": [
    "#### 3.1 Types of Normalization\n",
    "\n",
    "There are various levels of nomarlization which exist. The rules which apply to them are called Normal Forms (NF), which have varying levels of redundancy and dependency. The first 3 types are 1NF, 2NF and 3NF.\n"
   ]
  },
  {
   "cell_type": "markdown",
   "metadata": {},
   "source": [
    "##### **3.1.1. 1st Normal Form (1NF) -(atomicity)**\n",
    "    \n",
    "A table is said to be in 1st normal form if;\n",
    "\n",
    "- A single cell does not contain more than one value (Atomicity exists per row)\n",
    "- There is a primary key for identification.\n",
    "- No duplicated rows or columns\n",
    "- Partial dependencies exist eg; we can have both customer_id and customer_name and even customer_age etc.\n",
    "\n",
    "    Looking at ELVIC's sales data in it's **raw form**, we can say it is in 1NF as it meets these conditions. (we can directly or indirectly identify a primary key (Row Id or a combination of Order Id, Date and Product Id or others)) .\n",
    "\n"
   ]
  },
  {
   "cell_type": "markdown",
   "metadata": {},
   "source": [
    "<center><img src=\"../assets/img/1NF.png\" width=\"800\" height=\"200\"> </center>\n",
    "\n",
    "If we had a Products Column as follows for `Kelly Williams` with Order ID (`MX-2012-155047`),It would violate the atomicity of this table.;\n",
    "\n",
    "|Products| x|\n",
    "-----|-----\n",
    "|\"Tenex Clock, Durable\", \"Ikea 3-Shelf Cabinet, Mobile\".....| ----|"
   ]
  },
  {
   "cell_type": "markdown",
   "metadata": {},
   "source": [
    "##### 3.1.2 2nd Normal Form (2NF) -(eliminating redundancy)"
   ]
  },
  {
   "cell_type": "markdown",
   "metadata": {},
   "source": [
    "For a table to be in 2NF, it must first;\n",
    "\n",
    "-  \"Be IN 1NF\" (not violate the rules abve)\n",
    "- It has no partial dependencies (partial dependencies are removed and put in a different table.)\n",
    "- The attributes (columns) which are non-key (not the primary key) are fully dependent on the primary key column.\n",
    "\n",
    "Examine the table below; Assuming this subset to be our Customer's table.\n",
    "\n",
    "<center><img src=\"../assets/img/2NF-invalid.png\" width=\"700\" height=\"250\"> </center>"
   ]
  },
  {
   "cell_type": "markdown",
   "metadata": {},
   "source": [
    "In the above table, a unique row can be identified by the customer ID + Product Id as  a Primary key, But this would mean that **partial dependencies exist** as product name does not depend on the Primary Key. T o put this in 2NF, we would have two tables as follows;\n",
    "\n",
    "\n",
    "products\n",
    "\n",
    "product ID| product Name|\n",
    "----------|------------|\n",
    "OFF-LA-10002782|Hon File Folder Labels, Adjustable\n",
    "FUR-FU-10004015|Tenex Clock, Durable\n",
    "FUR-BO-10002352|Ikea 3-Shelf Cabinet, Mobile\n",
    "OFF-BI-10004428|Cardinal Binder, Clear\n",
    "OFF-AR-10004594|Sanford Canvas, Water Color\n",
    "OFF-EN-10001375|GlobeWeis Mailers, with clear poly window\n",
    "TEC-MA-10004956|Konica Card Printer, Red\n",
    "OFF-SU-10003474|Elite Box Cutter, Easy Grip\n",
    "TEC-AC-10001830|Enermax Router, Erganomic\n",
    "OFF-BI-10002075|Wilson Jones Hole Reinforcements, Durable\n",
    "\n",
    "\n",
    "and \n",
    "\n",
    "customer_products\n",
    "\n",
    "Customer ID|  Customer Name|  Product ID\n",
    "-----------|---------------|---------------\n",
    "SC-20575|\tSonia Cooley|\tOFF-LA-10002782\n",
    "KW-16570|\tKelly Williams|\tFUR-FU-10004015\n",
    "KW-16570|\tKelly Williams|\tFUR-BO-10002352\n",
    "KW-16570|\tKelly Williams|\tOFF-BI-10004428\n",
    "KW-16570|\tKelly Williams|\tOFF-AR-10004594\n",
    "KW-16570|\tKelly Williams|\tOFF-EN-10001375\n",
    "DP-13000|\tDarren Powers\t|OFF-EN-10001375\n",
    "DP-13000|\tDarren Powers\t|TEC-MA-10004956\n",
    "DP-13000|\tDarren Powers\t|OFF-SU-10003474\n",
    "DP-13000|\tDarren Powers\t|TEC-AC-10001830\n",
    "DP-13000|\tDarren Powers\t|OFF-BI-10002075"
   ]
  },
  {
   "cell_type": "markdown",
   "metadata": {},
   "source": [
    "What can you observe based on redundancy removal above? what can you observe based on the number or rows?"
   ]
  },
  {
   "cell_type": "markdown",
   "metadata": {},
   "source": [
    "##### 3.1.3 3rd Normal Form (3NF)(**reducing dependency**)"
   ]
  },
  {
   "cell_type": "markdown",
   "metadata": {},
   "source": [
    "A table is in 3NF if the following are met;\n",
    "\n",
    "- it is in 2NF (complies with the rules for 2NF)\n",
    "- Has no transitive partial/functional dependency. Simply put, columns that are non-primary key attributes should not be on the same table but should be moved to a new table."
   ]
  },
  {
   "cell_type": "markdown",
   "metadata": {},
   "source": [
    "Based on where we stopped in the normalization above, we can further break down the customer_products table into two more tables to achieve this as follows;\n",
    "\n",
    "**customer_products**\n",
    "\n",
    "Customer ID|  Product ID\n",
    "-----------|---------------|\n",
    "SC-20575| OFF-LA-10002782\n",
    "KW-16570| FUR-FU-10004015\n",
    "KW-16570| FUR-BO-10002352\n",
    "KW-16570| OFF-BI-10004428\n",
    "KW-16570| OFF-AR-10004594\n",
    "KW-16570| OFF-EN-10001375\n",
    "DP-13000| OFF-EN-10001375\n",
    "DP-13000| TEC-MA-10004956\n",
    "DP-13000| OFF-SU-10003474\n",
    "DP-13000| TEC-AC-10001830\n",
    "DP-13000| OFF-BI-10002075\n",
    "\n",
    "\n",
    "\n",
    "and isolate the customers complete data into a new table named **customers**.\n",
    "\n",
    "Check: This should have just 2 columns and about 3 rows. "
   ]
  },
  {
   "cell_type": "markdown",
   "metadata": {},
   "source": [
    "### **Denormalization**"
   ]
  },
  {
   "cell_type": "markdown",
   "metadata": {},
   "source": [
    "Denormalization is the process of introducing redundancy to a database system which was previously normalized. This is mostly done to improve performance when `read` performance becomes an issue.Denormalization can be seen as a reverse enginnering process to normalized data. Denormalized tables would typically contain pre-computed data to avoid joining so many tables. Note that When getting data from some sources like API's , it may come in a somewhat denormalized form, while that from application Database sources may already be normalized.\n",
    "\n",
    "\n",
    "**When should you consider Denormalization as a Data Engineer**\n",
    "- There are many tables being `consistently` joined to retrive data for analytical workloads.\n",
    "- Query times are becoming too long or skewed due to volumnes of data. Data can be pre-joined, aggregated and incrementally/fully sent to a denormalized table for direct queries in daashboards or client applications.\n",
    "\n",
    "Eg; assume we are always going to be reporting customer product sales for millions of records and more customer details like email, address, etc may be needed, we can save time by reverting to the 2NF version of the table and aggregating the total amount spent on those products and adding them back to the table."
   ]
  },
  {
   "cell_type": "markdown",
   "metadata": {},
   "source": [
    "## Final Notes\n",
    "\n",
    "As a Data Engineer, it would be good to properly understand the business before deciding how normalized or denormalized your data should get.The business analytics and the prevalent reports/ dashboards being built would mostly determine this.  _Eg; In finance, some dimensions like client_balances would typically contain pre-computed totals due to the volumes of transactional ledger entries compared to customers._"
   ]
  },
  {
   "cell_type": "markdown",
   "metadata": {},
   "source": []
  }
 ],
 "metadata": {
  "kernelspec": {
   "display_name": "Python 3",
   "language": "python",
   "name": "python3"
  },
  "language_info": {
   "codemirror_mode": {
    "name": "ipython",
    "version": 3
   },
   "file_extension": ".py",
   "mimetype": "text/x-python",
   "name": "python",
   "nbconvert_exporter": "python",
   "pygments_lexer": "ipython3",
   "version": "3.11.0"
  }
 },
 "nbformat": 4,
 "nbformat_minor": 2
}
